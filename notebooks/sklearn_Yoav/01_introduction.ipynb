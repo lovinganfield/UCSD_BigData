{
 "metadata": {
  "name": ""
 },
 "nbformat": 3,
 "nbformat_minor": 0,
 "worksheets": [
  {
   "cells": [
    {
     "cell_type": "heading",
     "level": 1,
     "metadata": {},
     "source": [
      "Introduction to Machine Learning in Python"
     ]
    },
    {
     "cell_type": "markdown",
     "metadata": {},
     "source": [
      "In this section we'll go through some preliminary topics, as well as some of the\n",
      "requirements for this tutorial.\n",
      "\n",
      "By the end of this section you should:\n",
      "\n",
      "- Know what sort of tasks qualify as Machine Learning problems.\n",
      "- See some simple examples of machine learning\n",
      "- Know the basics of creating and manipulating numpy arrays.\n",
      "- Know the basics of scatter plots in matplotlib."
     ]
    },
    {
     "cell_type": "heading",
     "level": 2,
     "metadata": {},
     "source": [
      "What is Machine Learning?"
     ]
    },
    {
     "cell_type": "markdown",
     "metadata": {},
     "source": [
      "In this section we will begin to explore the basic principles of machine learning.\n",
      "Machine Learning is about building programs with **tunable parameters** (typically an\n",
      "array of floating point values) that are adjusted automatically so as to improve\n",
      "their behavior by **adapting to previously seen data.**\n",
      "\n",
      "Machine Learning can be considered a subfield of **Artificial Intelligence** since those\n",
      "algorithms can be seen as building blocks to make computers learn to behave more\n",
      "intelligently by somehow **generalizing** rather that just storing and retrieving data items\n",
      "like a database system would do.\n",
      "\n",
      "We'll take a look at two very simple machine learning tasks here.\n",
      "The first is a **classification** task: the figure shows a\n",
      "collection of two-dimensional data, colored according to two different class\n",
      "labels. A classification algorithm may be used to draw a dividing boundary\n",
      "between the two clusters of points:"
     ]
    },
    {
     "cell_type": "code",
     "collapsed": false,
     "input": [
      "# Start pylab inline mode, so figures will appear in the notebook\n",
      "%pylab inline"
     ],
     "language": "python",
     "metadata": {},
     "outputs": [
      {
       "output_type": "stream",
       "stream": "stdout",
       "text": [
        "Populating the interactive namespace from numpy and matplotlib\n"
       ]
      }
     ],
     "prompt_number": 1
    },
    {
     "cell_type": "code",
     "collapsed": false,
     "input": [
      "# Import the example plot from the figures directory\n",
      "from figures import plot_sgd_separator\n",
      "plot_sgd_separator()"
     ],
     "language": "python",
     "metadata": {},
     "outputs": [
      {
       "metadata": {},
       "output_type": "display_data",
       "png": "[encoded data removed]",
       "text": [
        "<matplotlib.figure.Figure at 0x2fe0590>"
       ]
      }
     ],
     "prompt_number": 2
    },
    {
     "cell_type": "markdown",
     "metadata": {},
     "source": [
      "This may seem like a trivial task, but it is a simple version of a very important concept.\n",
      "By drawing this separating line, we have learned a model which can **generalize** to new\n",
      "data: if you were to drop another point onto the plane which is unlabeled, this algorithm\n",
      "could now **predict** whether it's a blue or a red point.\n",
      "\n",
      "If you'd like to see the source code used to generate this, you can either open the\n",
      "code in the `figures` directory, or you can load the code using the `%load` magic command:"
     ]
    },
    {
     "cell_type": "code",
     "collapsed": false,
     "input": [
      "%load figures/sgd_separator.py"
     ],
     "language": "python",
     "metadata": {},
     "outputs": [],
     "prompt_number": 3
    },
    {
     "cell_type": "code",
     "collapsed": false,
     "input": [
      "import numpy as np\n",
      "import matplotlib.pyplot as plt\n",
      "from sklearn.linear_model import SGDClassifier\n",
      "from sklearn.datasets.samples_generator import make_blobs\n",
      "\n",
      "def plot_sgd_separator():\n",
      "    # we create 50 separable points\n",
      "    X, Y = make_blobs(n_samples=50, centers=2,\n",
      "                      random_state=0, cluster_std=0.60)\n",
      "\n",
      "    # fit the model\n",
      "    clf = SGDClassifier(loss=\"hinge\", alpha=0.01,\n",
      "                        n_iter=200, fit_intercept=True)\n",
      "    clf.fit(X, Y)\n",
      "\n",
      "    # plot the line, the points, and the nearest vectors to the plane\n",
      "    xx = np.linspace(-1, 5, 10)\n",
      "    yy = np.linspace(-1, 5, 10)\n",
      "\n",
      "    X1, X2 = np.meshgrid(xx, yy)\n",
      "    Z = np.empty(X1.shape)\n",
      "    for (i, j), val in np.ndenumerate(X1):\n",
      "        x1 = val\n",
      "        x2 = X2[i, j]\n",
      "        p = clf.decision_function([x1, x2])\n",
      "        Z[i, j] = p[0]\n",
      "    levels = [-1.0, 0.0, 1.0]\n",
      "    linestyles = ['dashed', 'solid', 'dashed']\n",
      "    colors = 'k'\n",
      "\n",
      "    ax = plt.axes()\n",
      "    ax.contour(X1, X2, Z, levels, colors=colors, linestyles=linestyles)\n",
      "    ax.scatter(X[:, 0], X[:, 1], c=Y, cmap=plt.cm.Paired)\n",
      "\n",
      "    ax.axis('tight')\n",
      "\n",
      "\n",
      "if __name__ == '__main__':\n",
      "    plot_sgd_separator()\n",
      "    plt.show()\n"
     ],
     "language": "python",
     "metadata": {},
     "outputs": [
      {
       "metadata": {},
       "output_type": "display_data",
       "png": "[encoded data removed]",
       "text": [
        "<matplotlib.figure.Figure at 0x3a50cd0>"
       ]
      }
     ],
     "prompt_number": 4
    },
    {
     "cell_type": "markdown",
     "metadata": {},
     "source": [
      "The next simple task we'll look at is a **regression** task: a simple best-fit line\n",
      "to a set of data:"
     ]
    },
    {
     "cell_type": "code",
     "collapsed": false,
     "input": [
      "from figures import plot_linear_regression\n",
      "plot_linear_regression()"
     ],
     "language": "python",
     "metadata": {},
     "outputs": [
      {
       "metadata": {},
       "output_type": "display_data",
       "png": "[encoded data removed]",
       "text": [
        "<matplotlib.figure.Figure at 0x3c1e050>"
       ]
      }
     ],
     "prompt_number": 5
    },
    {
     "cell_type": "markdown",
     "metadata": {},
     "source": [
      "Again, this is an example of fitting a model to data, such that the model can make\n",
      "generalizations about new data.  The model has been **learned** from the training\n",
      "data, and can be used to predict the result of test data:\n",
      "here, we might be given an x-value, and the model would\n",
      "allow us to predict the y value.  Again, this might seem like a trivial problem,\n",
      "but it is a basic example of a type of operation that is fundamental to\n",
      "machine learning tasks."
     ]
    },
    {
     "cell_type": "heading",
     "level": 2,
     "metadata": {},
     "source": [
      "Numpy"
     ]
    },
    {
     "cell_type": "markdown",
     "metadata": {},
     "source": [
      "Manipulating `numpy` arrays is an important part of doing machine learning\n",
      "(or, really, any type of scientific computation) in python.  This will likely\n",
      "be review for most: we'll quickly go through some of the most important features."
     ]
    },
    {
     "cell_type": "code",
     "collapsed": false,
     "input": [
      "import numpy as np\n",
      "\n",
      "# Generating a random array\n",
      "X = np.random.random((3, 5))  # a 3 x 5 array\n",
      "\n",
      "print X"
     ],
     "language": "python",
     "metadata": {},
     "outputs": [
      {
       "output_type": "stream",
       "stream": "stdout",
       "text": [
        "[[ 0.71801744  0.30735165  0.60287425  0.19983162  0.58804879]\n",
        " [ 0.03179855  0.05802534  0.44371193  0.23615327  0.01765758]\n",
        " [ 0.66386464  0.02460608  0.99595204  0.78922089  0.44643056]]\n"
       ]
      }
     ],
     "prompt_number": 6
    },
    {
     "cell_type": "code",
     "collapsed": false,
     "input": [
      "# Accessing elements\n",
      "\n",
      "# get a single element\n",
      "print X[0, 0]\n",
      "\n",
      "# get a row\n",
      "print X[1]\n",
      "\n",
      "# get a column\n",
      "print X[:, 1]"
     ],
     "language": "python",
     "metadata": {},
     "outputs": [
      {
       "output_type": "stream",
       "stream": "stdout",
       "text": [
        "0.71801743706\n",
        "[ 0.03179855  0.05802534  0.44371193  0.23615327  0.01765758]\n",
        "[ 0.30735165  0.05802534  0.02460608]\n"
       ]
      }
     ],
     "prompt_number": 7
    },
    {
     "cell_type": "code",
     "collapsed": false,
     "input": [
      "# Transposing an array\n",
      "print X.T"
     ],
     "language": "python",
     "metadata": {},
     "outputs": [
      {
       "output_type": "stream",
       "stream": "stdout",
       "text": [
        "[[ 0.71801744  0.03179855  0.66386464]\n",
        " [ 0.30735165  0.05802534  0.02460608]\n",
        " [ 0.60287425  0.44371193  0.99595204]\n",
        " [ 0.19983162  0.23615327  0.78922089]\n",
        " [ 0.58804879  0.01765758  0.44643056]]\n"
       ]
      }
     ],
     "prompt_number": 8
    },
    {
     "cell_type": "code",
     "collapsed": false,
     "input": [
      "# Turning a row vector into a column vector\n",
      "y = np.linspace(0, 12, 5)\n",
      "print y\n",
      "\n",
      "# make into a column vector\n",
      "print y[:, np.newaxis]"
     ],
     "language": "python",
     "metadata": {},
     "outputs": [
      {
       "output_type": "stream",
       "stream": "stdout",
       "text": [
        "[  0.   3.   6.   9.  12.]\n",
        "[[  0.]\n",
        " [  3.]\n",
        " [  6.]\n",
        " [  9.]\n",
        " [ 12.]]\n"
       ]
      }
     ],
     "prompt_number": 9
    },
    {
     "cell_type": "markdown",
     "metadata": {},
     "source": [
      "There is much, much more to know, but these few operations are fundamental to what we'll\n",
      "do during this tutorial."
     ]
    },
    {
     "cell_type": "heading",
     "level": 2,
     "metadata": {},
     "source": [
      "Scipy Sparse Matrices"
     ]
    },
    {
     "cell_type": "markdown",
     "metadata": {},
     "source": [
      "We won't make very much use of these in this tutorial, but sparse matrices are very nice\n",
      "in some situations.  For example, in some machine learning tasks, especially those associated\n",
      "with textual analysis, the data may be mostly zeros.  Storing all these zeros is very\n",
      "inefficient.  We can create and manipulate sparse matrices as follows:"
     ]
    },
    {
     "cell_type": "code",
     "collapsed": false,
     "input": [
      "from scipy import sparse\n",
      "\n",
      "# Create a random array with a lot of zeros\n",
      "X = np.random.random((10, 5))\n",
      "print X\n",
      "X[X < 0.7] = 0\n",
      "print X"
     ],
     "language": "python",
     "metadata": {},
     "outputs": [
      {
       "output_type": "stream",
       "stream": "stdout",
       "text": [
        "[[ 0.29228354  0.29738027  0.0673342   0.69936927  0.3434482 ]\n",
        " [ 0.48428009  0.6819494   0.89833423  0.24381952  0.42403666]\n",
        " [ 0.5986844   0.42089462  0.01234199  0.43245383  0.00415421]\n",
        " [ 0.32416881  0.38852931  0.31694316  0.00526265  0.35442998]\n",
        " [ 0.28252498  0.80377042  0.73328149  0.26630852  0.63858795]\n",
        " [ 0.63847792  0.97860684  0.12439385  0.83251246  0.92907103]\n",
        " [ 0.41389806  0.80865214  0.83620518  0.51931649  0.59303897]\n",
        " [ 0.84501738  0.86048186  0.61029218  0.05541642  0.37190576]\n",
        " [ 0.00111238  0.70414535  0.25506085  0.61800178  0.88354802]\n",
        " [ 0.04758442  0.45714168  0.24146534  0.22013087  0.88549663]]\n",
        "[[ 0.          0.          0.          0.          0.        ]\n",
        " [ 0.          0.          0.89833423  0.          0.        ]\n",
        " [ 0.          0.          0.          0.          0.        ]\n",
        " [ 0.          0.          0.          0.          0.        ]\n",
        " [ 0.          0.80377042  0.73328149  0.          0.        ]\n",
        " [ 0.          0.97860684  0.          0.83251246  0.92907103]\n",
        " [ 0.          0.80865214  0.83620518  0.          0.        ]\n",
        " [ 0.84501738  0.86048186  0.          0.          0.        ]\n",
        " [ 0.          0.70414535  0.          0.          0.88354802]\n",
        " [ 0.          0.          0.          0.          0.88549663]]\n"
       ]
      }
     ],
     "prompt_number": 10
    },
    {
     "cell_type": "code",
     "collapsed": false,
     "input": [
      "# turn X into a csr (Compressed-Sparse-Row) matrix\n",
      "X_csr = sparse.csr_matrix(X)\n",
      "print X_csr"
     ],
     "language": "python",
     "metadata": {},
     "outputs": [
      {
       "output_type": "stream",
       "stream": "stdout",
       "text": [
        "  (1, 2)\t0.898334230857\n",
        "  (4, 1)\t0.803770417719\n",
        "  (4, 2)\t0.733281492001\n",
        "  (5, 1)\t0.978606840958\n",
        "  (5, 3)\t0.832512457922\n",
        "  (5, 4)\t0.929071032285\n",
        "  (6, 1)\t0.808652137416\n",
        "  (6, 2)\t0.836205180305\n",
        "  (7, 0)\t0.845017376531\n",
        "  (7, 1)\t0.860481856566\n",
        "  (8, 1)\t0.704145347439\n",
        "  (8, 4)\t0.883548020395\n",
        "  (9, 4)\t0.885496629604\n"
       ]
      }
     ],
     "prompt_number": 11
    },
    {
     "cell_type": "code",
     "collapsed": false,
     "input": [
      "# convert the sparse matrix to a dense array\n",
      "print X_csr.toarray()"
     ],
     "language": "python",
     "metadata": {},
     "outputs": [
      {
       "output_type": "stream",
       "stream": "stdout",
       "text": [
        "[[ 0.          0.          0.          0.          0.        ]\n",
        " [ 0.          0.          0.89833423  0.          0.        ]\n",
        " [ 0.          0.          0.          0.          0.        ]\n",
        " [ 0.          0.          0.          0.          0.        ]\n",
        " [ 0.          0.80377042  0.73328149  0.          0.        ]\n",
        " [ 0.          0.97860684  0.          0.83251246  0.92907103]\n",
        " [ 0.          0.80865214  0.83620518  0.          0.        ]\n",
        " [ 0.84501738  0.86048186  0.          0.          0.        ]\n",
        " [ 0.          0.70414535  0.          0.          0.88354802]\n",
        " [ 0.          0.          0.          0.          0.88549663]]\n"
       ]
      }
     ],
     "prompt_number": 12
    },
    {
     "cell_type": "markdown",
     "metadata": {},
     "source": [
      "The CSR representation can be very efficient for computations, but it is not\n",
      "as good for adding elements.  For that, the LIL (List-In-List) representation\n",
      "is better:"
     ]
    },
    {
     "cell_type": "code",
     "collapsed": false,
     "input": [
      "# Create an empty LIL matrix and add some items\n",
      "X_lil = sparse.lil_matrix((5, 5))\n",
      "\n",
      "for i, j in np.random.randint(0, 5, (15, 2)):\n",
      "    X_lil[i, j] = i + j\n",
      "\n",
      "print X_lil\n",
      "print X_lil.toarray()"
     ],
     "language": "python",
     "metadata": {},
     "outputs": [
      {
       "output_type": "stream",
       "stream": "stdout",
       "text": [
        "  (0, 2)\t2.0\n",
        "  (0, 4)\t4.0\n",
        "  (1, 4)\t5.0\n",
        "  (2, 1)\t3.0\n",
        "  (2, 2)\t4.0\n",
        "  (2, 3)\t5.0\n",
        "  (2, 4)\t6.0\n",
        "  (3, 4)\t7.0\n",
        "  (4, 0)\t4.0\n",
        "  (4, 1)\t5.0\n",
        "[[ 0.  0.  2.  0.  4.]\n",
        " [ 0.  0.  0.  0.  5.]\n",
        " [ 0.  3.  4.  5.  6.]\n",
        " [ 0.  0.  0.  0.  7.]\n",
        " [ 4.  5.  0.  0.  0.]]\n"
       ]
      }
     ],
     "prompt_number": 13
    },
    {
     "cell_type": "markdown",
     "metadata": {},
     "source": [
      "Often, once an LIL matrix is created, it is useful to convert it to a CSR format\n",
      "(many scikit-learn algorithms require CSR or CSC format)"
     ]
    },
    {
     "cell_type": "code",
     "collapsed": false,
     "input": [
      "X_csr = X_lil.tocsr()\n",
      "print X_csr"
     ],
     "language": "python",
     "metadata": {},
     "outputs": []
    },
    {
     "cell_type": "markdown",
     "metadata": {},
     "source": [
      "There are several other sparse formats that can be useful for various problems:\n",
      "\n",
      "- `CSC` (compressed sparse column)\n",
      "- `BSR` (block sparse row)\n",
      "- `COO` (coordinate)\n",
      "- `DIA` (diagonal)\n",
      "- `DOK` (dictionary of keys)\n",
      "\n",
      "The ``scipy.sparse`` submodule also has a lot of functions for sparse matrices\n",
      "including linear algebra, sparse solvers, graph algorithms, and much more."
     ]
    },
    {
     "cell_type": "heading",
     "level": 2,
     "metadata": {},
     "source": [
      "Matplotlib"
     ]
    },
    {
     "cell_type": "markdown",
     "metadata": {},
     "source": [
      "Another important part of machine learning is visualization of data.  The most common\n",
      "tool for this in Python is `matplotlib`.  It is an extremely flexible package, but\n",
      "we will go over some basics here.\n",
      "\n",
      "First, something special to IPython notebook.  We can turn on the \"IPython inline\" mode,\n",
      "which will make plots show up inline in the notebook."
     ]
    },
    {
     "cell_type": "code",
     "collapsed": false,
     "input": [
      "%pylab inline"
     ],
     "language": "python",
     "metadata": {},
     "outputs": []
    },
    {
     "cell_type": "code",
     "collapsed": false,
     "input": [
      "import matplotlib.pyplot as plt"
     ],
     "language": "python",
     "metadata": {},
     "outputs": []
    },
    {
     "cell_type": "code",
     "collapsed": false,
     "input": [
      "# plotting a line\n",
      "\n",
      "x = np.linspace(0, 10, 100)\n",
      "plt.plot(x, np.sin(x))"
     ],
     "language": "python",
     "metadata": {},
     "outputs": []
    },
    {
     "cell_type": "code",
     "collapsed": false,
     "input": [
      "# scatter-plot points\n",
      "\n",
      "x = np.random.normal(size=500)\n",
      "y = np.random.normal(size=500)\n",
      "plt.scatter(x, y)"
     ],
     "language": "python",
     "metadata": {},
     "outputs": []
    },
    {
     "cell_type": "code",
     "collapsed": false,
     "input": [
      "# showing images\n",
      "x = np.linspace(1, 12, 100)\n",
      "y = x[:, np.newaxis]\n",
      "\n",
      "im = y * np.sin(x) * np.cos(y)\n",
      "print im.shape"
     ],
     "language": "python",
     "metadata": {},
     "outputs": []
    },
    {
     "cell_type": "code",
     "collapsed": false,
     "input": [
      "# imshow - note that origin is at the top-left!\n",
      "plt.imshow(im)"
     ],
     "language": "python",
     "metadata": {},
     "outputs": []
    },
    {
     "cell_type": "code",
     "collapsed": false,
     "input": [
      "# Contour plot - note that origin here is at the bottom-left!\n",
      "plt.contour(im)"
     ],
     "language": "python",
     "metadata": {},
     "outputs": []
    }
   ],
   "metadata": {}
  }
 ]
}